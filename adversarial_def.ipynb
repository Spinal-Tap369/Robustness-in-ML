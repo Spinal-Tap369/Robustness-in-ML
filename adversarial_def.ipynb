{
 "cells": [
  {
   "cell_type": "code",
   "execution_count": 14,
   "metadata": {},
   "outputs": [],
   "source": [
    "import torch\n",
    "import torch.nn as nn\n",
    "import torch.optim as optim\n",
    "from torchvision import datasets, transforms\n",
    "from torch.utils.data import DataLoader\n",
    "\n",
    "# Check for CUDA availability\n",
    "device = torch.device('cuda' if torch.cuda.is_available() else 'cpu')"
   ]
  },
  {
   "cell_type": "code",
   "execution_count": 29,
   "metadata": {},
   "outputs": [],
   "source": [
    "# CNN Model for classification\n",
    "class classModel(nn.Module):\n",
    "    def __init__(self):\n",
    "        super(classModel, self).__init__()\n",
    "        self.conv1 = nn.Conv2d(3, 64, kernel_size=3, padding=1)\n",
    "        self.bn1 = nn.BatchNorm2d(64)\n",
    "        self.conv2 = nn.Conv2d(64, 128, kernel_size=3, padding=1)\n",
    "        self.bn2 = nn.BatchNorm2d(128)\n",
    "        self.conv3 = nn.Conv2d(128, 256, kernel_size=3, padding=1)\n",
    "        self.bn3 = nn.BatchNorm2d(256)\n",
    "        self.conv4 = nn.Conv2d(256, 512, kernel_size=3, padding=1)\n",
    "        self.bn4 = nn.BatchNorm2d(512)\n",
    "        self.pool = nn.MaxPool2d(kernel_size=2, stride=2, padding=0)\n",
    "        self.dropout = nn.Dropout(0.5)\n",
    "        self.fc1 = nn.Linear(512 * 2 * 2, 1024)\n",
    "        self.fc2 = nn.Linear(1024, 512)\n",
    "        self.fc3 = nn.Linear(512, 10)\n",
    "        self.relu = nn.ReLU()\n",
    "\n",
    "    def forward(self, x):\n",
    "        x = self.pool(self.relu(self.bn1(self.conv1(x))))\n",
    "        x = self.pool(self.relu(self.bn2(self.conv2(x))))\n",
    "        x = self.pool(self.relu(self.bn3(self.conv3(x))))\n",
    "        x = self.pool(self.relu(self.bn4(self.conv4(x))))\n",
    "        x = x.view(-1, 512 * 2 * 2)\n",
    "        x = self.dropout(self.relu(self.fc1(x)))\n",
    "        x = self.dropout(self.relu(self.fc2(x)))\n",
    "        x = self.fc3(x)\n",
    "        return x"
   ]
  },
  {
   "cell_type": "code",
   "execution_count": 16,
   "metadata": {},
   "outputs": [],
   "source": [
    "# Data transformation and loading\n",
    "transform = transforms.Compose([\n",
    "    transforms.ToTensor(),\n",
    "    transforms.Normalize((0.4914, 0.4822, 0.4465), (0.2023, 0.1994, 0.2010)),\n",
    "])"
   ]
  },
  {
   "cell_type": "code",
   "execution_count": 17,
   "metadata": {},
   "outputs": [
    {
     "name": "stdout",
     "output_type": "stream",
     "text": [
      "Downloading https://www.cs.toronto.edu/~kriz/cifar-10-python.tar.gz to ./data\\cifar-10-python.tar.gz\n"
     ]
    },
    {
     "name": "stderr",
     "output_type": "stream",
     "text": [
      "100.0%\n"
     ]
    },
    {
     "name": "stdout",
     "output_type": "stream",
     "text": [
      "Extracting ./data\\cifar-10-python.tar.gz to ./data\n",
      "Files already downloaded and verified\n"
     ]
    }
   ],
   "source": [
    "train_dataset = datasets.CIFAR10(root='./data', train=True, download=True, transform=transform)\n",
    "train_loader = DataLoader(train_dataset, batch_size=64, shuffle=True)\n",
    "\n",
    "test_dataset = datasets.CIFAR10(root='./data', train=False, download=True, transform=transform)\n",
    "test_loader = DataLoader(test_dataset, batch_size=64, shuffle=False)"
   ]
  },
  {
   "cell_type": "code",
   "execution_count": 36,
   "metadata": {},
   "outputs": [
    {
     "name": "stdout",
     "output_type": "stream",
     "text": [
      "Epoch 1, Loss: 1.4381\n",
      "Epoch 2, Loss: 1.0271\n",
      "Epoch 3, Loss: 0.8345\n",
      "Epoch 4, Loss: 0.7097\n",
      "Epoch 5, Loss: 0.5998\n",
      "Epoch 6, Loss: 0.5068\n",
      "Epoch 7, Loss: 0.4169\n",
      "Epoch 8, Loss: 0.3566\n",
      "Epoch 9, Loss: 0.2865\n",
      "Epoch 10, Loss: 0.2417\n"
     ]
    }
   ],
   "source": [
    "# Initialize and train the model\n",
    "model = classModel().to(device)\n",
    "criterion = nn.CrossEntropyLoss()\n",
    "optimizer = optim.Adam(model.parameters(), lr=0.001)\n",
    "\n",
    "# Training function\n",
    "def train(model, loader, criterion, optimizer, num_epochs=10):\n",
    "    model.train()\n",
    "    for epoch in range(num_epochs):\n",
    "        running_loss = 0.0\n",
    "        for images, labels in loader:\n",
    "            images, labels = images.to(device), labels.to(device)\n",
    "            optimizer.zero_grad()\n",
    "            outputs = model(images)\n",
    "            loss = criterion(outputs, labels)\n",
    "            loss.backward()\n",
    "            optimizer.step()\n",
    "            running_loss += loss.item() * images.size(0)\n",
    "        epoch_loss = running_loss / len(loader.dataset)\n",
    "        print(f\"Epoch {epoch + 1}, Loss: {epoch_loss:.4f}\")\n",
    "\n",
    "train(model, train_loader, criterion, optimizer, num_epochs=10)"
   ]
  },
  {
   "cell_type": "code",
   "execution_count": 34,
   "metadata": {},
   "outputs": [],
   "source": [
    "# Evaluate the model\n",
    "def evaluate_model(model, data_loader):\n",
    "    model.eval()\n",
    "    correct = 0\n",
    "    total = 0\n",
    "    with torch.no_grad():\n",
    "        for images, labels in data_loader:\n",
    "            images, labels = images.to(device), labels.to(device)\n",
    "            outputs = model(images)\n",
    "            _, predicted = torch.max(outputs.data, 1)\n",
    "            total += labels.size(0)\n",
    "            correct += (predicted == labels).sum().item()\n",
    "    return correct / total"
   ]
  },
  {
   "cell_type": "code",
   "execution_count": 37,
   "metadata": {},
   "outputs": [
    {
     "name": "stdout",
     "output_type": "stream",
     "text": [
      "Original model accuracy on clean test data: 81.11%\n"
     ]
    }
   ],
   "source": [
    "# Evaluate original model accuracy on clean test data\n",
    "original_accuracy = evaluate_model(model, test_loader)\n",
    "print(f'Original model accuracy on clean test data: {original_accuracy * 100:.2f}%')"
   ]
  },
  {
   "cell_type": "code",
   "execution_count": 38,
   "metadata": {},
   "outputs": [],
   "source": [
    "# FGSM attack function\n",
    "def fgsm_attack(image, epsilon, data_grad):\n",
    "    perturbed_image = image + epsilon * data_grad.sign()\n",
    "    return torch.clamp(perturbed_image, 0, 1)"
   ]
  },
  {
   "cell_type": "code",
   "execution_count": 39,
   "metadata": {},
   "outputs": [],
   "source": [
    "# Create adversarial examples and evaluate model\n",
    "def evaluate_adversarial_examples(model, data_loader, epsilon):\n",
    "    model.eval()\n",
    "    correct = 0\n",
    "    total = 0\n",
    "    for images, labels in data_loader:\n",
    "        images, labels = images.to(device), labels.to(device)\n",
    "        images.requires_grad = True\n",
    "        outputs = model(images)\n",
    "        loss = criterion(outputs, labels)\n",
    "        model.zero_grad()\n",
    "        loss.backward()\n",
    "        data_grad = images.grad.data\n",
    "        perturbed_data = fgsm_attack(images, epsilon, data_grad)\n",
    "        \n",
    "        outputs = model(perturbed_data)\n",
    "        _, predicted = torch.max(outputs.data, 1)\n",
    "        total += labels.size(0)\n",
    "        correct += (predicted == labels).sum().item()\n",
    "    return correct / total"
   ]
  },
  {
   "cell_type": "code",
   "execution_count": 40,
   "metadata": {},
   "outputs": [
    {
     "name": "stdout",
     "output_type": "stream",
     "text": [
      "Original model accuracy on adversarial test data: 22.38%\n"
     ]
    }
   ],
   "source": [
    "# Evaluate original model accuracy on adversarial test data\n",
    "epsilon = 0.1\n",
    "adversarial_accuracy = evaluate_adversarial_examples(model, test_loader, epsilon)\n",
    "print(f'Original model accuracy on adversarial test data: {adversarial_accuracy * 100:.2f}%')"
   ]
  },
  {
   "cell_type": "code",
   "execution_count": 54,
   "metadata": {},
   "outputs": [
    {
     "name": "stdout",
     "output_type": "stream",
     "text": [
      "Epoch [1/10], Loss: 0.1547, Clean Accuracy: 77.03%, Adversarial Accuracy: 41.93%\n",
      "Epoch [2/10], Loss: 0.0643, Clean Accuracy: 77.07%, Adversarial Accuracy: 45.74%\n",
      "Epoch [3/10], Loss: 0.0463, Clean Accuracy: 76.71%, Adversarial Accuracy: 46.10%\n",
      "Epoch [4/10], Loss: 0.0495, Clean Accuracy: 76.75%, Adversarial Accuracy: 44.85%\n",
      "Epoch [5/10], Loss: 0.0478, Clean Accuracy: 77.01%, Adversarial Accuracy: 46.04%\n",
      "Epoch [6/10], Loss: 0.0151, Clean Accuracy: 77.72%, Adversarial Accuracy: 46.66%\n",
      "Epoch [7/10], Loss: 0.0041, Clean Accuracy: 77.71%, Adversarial Accuracy: 46.76%\n",
      "Epoch [8/10], Loss: 0.0028, Clean Accuracy: 77.95%, Adversarial Accuracy: 47.10%\n",
      "Epoch [9/10], Loss: 0.0023, Clean Accuracy: 77.91%, Adversarial Accuracy: 47.27%\n",
      "Epoch [10/10], Loss: 0.0021, Clean Accuracy: 77.98%, Adversarial Accuracy: 47.61%\n",
      "Adversarial training complete\n"
     ]
    }
   ],
   "source": [
    "# Implement adversarial training with learning rate scheduling\n",
    "model.train()\n",
    "optimizer = optim.Adam(model.parameters(), lr=0.001)\n",
    "scheduler = optim.lr_scheduler.StepLR(optimizer, step_size=5, gamma=0.1)\n",
    "criterion = nn.CrossEntropyLoss()\n",
    "num_epochs = 10  # Number of epochs for simplicity\n",
    "alpha = 0.3  # Balance factor between clean and adversarial loss\n",
    "\n",
    "for epoch in range(num_epochs):\n",
    "    running_loss = 0.0\n",
    "    for images, labels in train_loader:\n",
    "        images, labels = images.to(device), labels.to(device)\n",
    "        images.requires_grad = True\n",
    "        optimizer.zero_grad()\n",
    "        \n",
    "        # Forward pass with clean data\n",
    "        outputs = model(images)\n",
    "        clean_loss = criterion(outputs, labels)\n",
    "        \n",
    "        # Generate adversarial examples\n",
    "        clean_loss.backward(retain_graph=True)\n",
    "        data_grad = images.grad.data\n",
    "        perturbed_data = fgsm_attack(images, epsilon, data_grad)\n",
    "        \n",
    "        # Zero gradients again\n",
    "        optimizer.zero_grad()\n",
    "        \n",
    "        # Forward pass with perturbed data\n",
    "        perturbed_outputs = model(perturbed_data)\n",
    "        adversarial_loss = criterion(perturbed_outputs, labels)\n",
    "        \n",
    "        # Combine losses with balance factor alpha\n",
    "        loss = alpha * clean_loss + (1 - alpha) * adversarial_loss\n",
    "        loss.backward()\n",
    "        optimizer.step()\n",
    "        \n",
    "        running_loss += loss.item() * images.size(0)\n",
    "    \n",
    "    # Step the learning rate scheduler\n",
    "    scheduler.step()\n",
    "    \n",
    "    # Calculate average loss\n",
    "    epoch_loss = running_loss / len(train_loader.dataset)\n",
    "    \n",
    "    # Evaluate model accuracy on clean test data\n",
    "    clean_accuracy = evaluate_model(model, test_loader)\n",
    "    \n",
    "    # Evaluate model accuracy on adversarial test data\n",
    "    adversarial_accuracy = evaluate_adversarial_examples(model, test_loader, epsilon)\n",
    "    \n",
    "    print(f\"Epoch [{epoch + 1}/{num_epochs}], Loss: {epoch_loss:.4f}, \"\n",
    "          f\"Clean Accuracy: {clean_accuracy * 100:.2f}%, \"\n",
    "          f\"Adversarial Accuracy: {adversarial_accuracy * 100:.2f}%\")\n",
    "\n",
    "print(\"Adversarial training complete\")\n"
   ]
  },
  {
   "cell_type": "code",
   "execution_count": 55,
   "metadata": {},
   "outputs": [
    {
     "name": "stdout",
     "output_type": "stream",
     "text": [
      "Adversarially trained model accuracy on clean test data: 77.98%\n"
     ]
    }
   ],
   "source": [
    "# Evaluate adversarially trained model accuracy on clean test data\n",
    "adv_trained_clean_accuracy = evaluate_model(model, test_loader)\n",
    "print(f'Adversarially trained model accuracy on clean test data: {adv_trained_clean_accuracy * 100:.2f}%')"
   ]
  },
  {
   "cell_type": "code",
   "execution_count": 56,
   "metadata": {},
   "outputs": [
    {
     "name": "stdout",
     "output_type": "stream",
     "text": [
      "Adversarially trained model accuracy on adversarial test data: 47.61%\n"
     ]
    }
   ],
   "source": [
    "# Evaluate adversarially trained model accuracy on adversarial test data\n",
    "adv_trained_adversarial_accuracy = evaluate_adversarial_examples(model, test_loader, epsilon)\n",
    "print(f'Adversarially trained model accuracy on adversarial test data: {adv_trained_adversarial_accuracy * 100:.2f}%')"
   ]
  },
  {
   "cell_type": "markdown",
   "metadata": {},
   "source": [
    "### Conclusions\n",
    "\n",
    "#### Improved Robustness to Adversarial Examples:\n",
    "The adversarially trained model shows a significant improvement in accuracy on adversarial test data, increasing from 22.38% to 47.61%. This indicates that the adversarial training process has successfully enhanced the model's robustness against adversarial attacks.\n",
    "\n",
    "#### Slight Drop in Clean Accuracy:\n",
    "There is a slight decrease in the model's accuracy on clean test data, dropping from 81.11% to 77.98%. This is a common trade-off in adversarial training, where improving robustness to adversarial examples can sometimes come at the cost of performance on clean data.\n",
    "\n",
    "#### Balanced Trade-Off:\n",
    "The reduction in clean accuracy is relatively small compared to the substantial gain in adversarial accuracy. This trade-off suggests that the model has achieved a better overall balance between robustness and accuracy."
   ]
  }
 ],
 "metadata": {
  "kernelspec": {
   "display_name": "aucenv",
   "language": "python",
   "name": "python3"
  },
  "language_info": {
   "codemirror_mode": {
    "name": "ipython",
    "version": 3
   },
   "file_extension": ".py",
   "mimetype": "text/x-python",
   "name": "python",
   "nbconvert_exporter": "python",
   "pygments_lexer": "ipython3",
   "version": "3.12.0"
  }
 },
 "nbformat": 4,
 "nbformat_minor": 2
}
