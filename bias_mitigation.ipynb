{
 "cells": [
  {
   "cell_type": "code",
   "execution_count": 36,
   "metadata": {},
   "outputs": [],
   "source": [
    "import pandas as pd\n",
    "from sklearn.model_selection import train_test_split\n",
    "from sklearn.preprocessing import StandardScaler\n",
    "from sklearn.metrics import classification_report, confusion_matrix\n",
    "from imblearn.over_sampling import SMOTE\n",
    "from imblearn.under_sampling import RandomUnderSampler\n",
    "from imblearn.pipeline import Pipeline\n",
    "import xgboost as xgb"
   ]
  },
  {
   "cell_type": "code",
   "execution_count": 37,
   "metadata": {},
   "outputs": [],
   "source": [
    "df = pd.read_csv('creditcard.csv')"
   ]
  },
  {
   "cell_type": "code",
   "execution_count": 38,
   "metadata": {},
   "outputs": [],
   "source": [
    "X = df.drop('Class', axis=1) \n",
    "y = df['Class']               "
   ]
  },
  {
   "cell_type": "code",
   "execution_count": 39,
   "metadata": {},
   "outputs": [],
   "source": [
    "# Standardize features\n",
    "scaler = StandardScaler()\n",
    "X_scaled = scaler.fit_transform(X)"
   ]
  },
  {
   "cell_type": "code",
   "execution_count": 40,
   "metadata": {},
   "outputs": [],
   "source": [
    "# Split dataset into training and test sets\n",
    "X_train, X_test, y_train, y_test = train_test_split(X_scaled, y, test_size=0.3, random_state=42)"
   ]
  },
  {
   "cell_type": "code",
   "execution_count": 41,
   "metadata": {},
   "outputs": [],
   "source": [
    "# Define the XGBoost model\n",
    "model = xgb.XGBClassifier(\n",
    "    use_label_encoder=False,\n",
    "    eval_metric='mlogloss',\n",
    "    tree_method='gpu_hist',  \n",
    "    gpu_id=0,  \n",
    "    random_state=42\n",
    ")"
   ]
  },
  {
   "cell_type": "code",
   "execution_count": 42,
   "metadata": {},
   "outputs": [
    {
     "name": "stderr",
     "output_type": "stream",
     "text": [
      "e:\\Py_Files\\ai_use_case\\aucenv\\Lib\\site-packages\\xgboost\\core.py:158: UserWarning: [13:04:11] WARNING: C:\\buildkite-agent\\builds\\buildkite-windows-cpu-autoscaling-group-i-0015a694724fa8361-1\\xgboost\\xgboost-ci-windows\\src\\common\\error_msg.cc:45: `gpu_id` is deprecated since2.0.0, use `device` instead. E.g. device=cpu/cuda/cuda:0\n",
      "  warnings.warn(smsg, UserWarning)\n",
      "e:\\Py_Files\\ai_use_case\\aucenv\\Lib\\site-packages\\xgboost\\core.py:158: UserWarning: [13:04:11] WARNING: C:\\buildkite-agent\\builds\\buildkite-windows-cpu-autoscaling-group-i-0015a694724fa8361-1\\xgboost\\xgboost-ci-windows\\src\\common\\error_msg.cc:27: The tree method `gpu_hist` is deprecated since 2.0.0. To use GPU training, set the `device` parameter to CUDA instead.\n",
      "\n",
      "    E.g. tree_method = \"hist\", device = \"cuda\"\n",
      "\n",
      "  warnings.warn(smsg, UserWarning)\n",
      "e:\\Py_Files\\ai_use_case\\aucenv\\Lib\\site-packages\\xgboost\\core.py:158: UserWarning: [13:04:11] WARNING: C:\\buildkite-agent\\builds\\buildkite-windows-cpu-autoscaling-group-i-0015a694724fa8361-1\\xgboost\\xgboost-ci-windows\\src\\learner.cc:740: \n",
      "Parameters: { \"use_label_encoder\" } are not used.\n",
      "\n",
      "  warnings.warn(smsg, UserWarning)\n",
      "e:\\Py_Files\\ai_use_case\\aucenv\\Lib\\site-packages\\xgboost\\core.py:158: UserWarning: [13:04:12] WARNING: C:\\buildkite-agent\\builds\\buildkite-windows-cpu-autoscaling-group-i-0015a694724fa8361-1\\xgboost\\xgboost-ci-windows\\src\\common\\error_msg.cc:27: The tree method `gpu_hist` is deprecated since 2.0.0. To use GPU training, set the `device` parameter to CUDA instead.\n",
      "\n",
      "    E.g. tree_method = \"hist\", device = \"cuda\"\n",
      "\n",
      "  warnings.warn(smsg, UserWarning)\n",
      "e:\\Py_Files\\ai_use_case\\aucenv\\Lib\\site-packages\\xgboost\\core.py:158: UserWarning: [13:04:12] WARNING: C:\\buildkite-agent\\builds\\buildkite-windows-cpu-autoscaling-group-i-0015a694724fa8361-1\\xgboost\\xgboost-ci-windows\\src\\common\\error_msg.cc:58: Falling back to prediction using DMatrix due to mismatched devices. This might lead to higher memory usage and slower performance. XGBoost is running on: cuda:0, while the input data is on: cpu.\n",
      "Potential solutions:\n",
      "- Use a data structure that matches the device ordinal in the booster.\n",
      "- Set the device for booster before call to inplace_predict.\n",
      "\n",
      "This warning will only be shown once.\n",
      "\n",
      "  warnings.warn(smsg, UserWarning)\n"
     ]
    },
    {
     "name": "stdout",
     "output_type": "stream",
     "text": [
      "Original Dataset (Imbalanced):\n",
      "              precision    recall  f1-score   support\n",
      "\n",
      "           0       1.00      1.00      1.00     85307\n",
      "           1       0.94      0.82      0.88       136\n",
      "\n",
      "    accuracy                           1.00     85443\n",
      "   macro avg       0.97      0.91      0.94     85443\n",
      "weighted avg       1.00      1.00      1.00     85443\n",
      "\n",
      "Confusion Matrix (Original Dataset):\n",
      "[[85300     7]\n",
      " [   24   112]]\n"
     ]
    }
   ],
   "source": [
    "# Evaluate on the original dataset\n",
    "model.fit(X_train, y_train)\n",
    "y_pred_original = model.predict(X_test)\n",
    "print(\"Original Dataset (Imbalanced):\")\n",
    "print(classification_report(y_test, y_pred_original))\n",
    "print(\"Confusion Matrix (Original Dataset):\")\n",
    "print(confusion_matrix(y_test, y_pred_original))"
   ]
  },
  {
   "cell_type": "code",
   "execution_count": 43,
   "metadata": {},
   "outputs": [],
   "source": [
    "# Define sampling methods\n",
    "oversample = SMOTE(random_state=42)\n",
    "undersample = RandomUnderSampler(random_state=42)\n",
    "\n",
    "# Define pipelines for oversampling and undersampling\n",
    "pipeline_oversample = Pipeline([\n",
    "    ('o', oversample),\n",
    "    ('m', model)\n",
    "])\n",
    "\n",
    "pipeline_undersample = Pipeline([\n",
    "    ('u', undersample),\n",
    "    ('m', model)\n",
    "])"
   ]
  },
  {
   "cell_type": "code",
   "execution_count": 44,
   "metadata": {},
   "outputs": [
    {
     "name": "stderr",
     "output_type": "stream",
     "text": [
      "e:\\Py_Files\\ai_use_case\\aucenv\\Lib\\site-packages\\xgboost\\core.py:158: UserWarning: [13:05:47] WARNING: C:\\buildkite-agent\\builds\\buildkite-windows-cpu-autoscaling-group-i-0015a694724fa8361-1\\xgboost\\xgboost-ci-windows\\src\\common\\error_msg.cc:27: The tree method `gpu_hist` is deprecated since 2.0.0. To use GPU training, set the `device` parameter to CUDA instead.\n",
      "\n",
      "    E.g. tree_method = \"hist\", device = \"cuda\"\n",
      "\n",
      "  warnings.warn(smsg, UserWarning)\n",
      "e:\\Py_Files\\ai_use_case\\aucenv\\Lib\\site-packages\\xgboost\\core.py:158: UserWarning: [13:05:47] WARNING: C:\\buildkite-agent\\builds\\buildkite-windows-cpu-autoscaling-group-i-0015a694724fa8361-1\\xgboost\\xgboost-ci-windows\\src\\learner.cc:740: \n",
      "Parameters: { \"use_label_encoder\" } are not used.\n",
      "\n",
      "  warnings.warn(smsg, UserWarning)\n",
      "e:\\Py_Files\\ai_use_case\\aucenv\\Lib\\site-packages\\xgboost\\core.py:158: UserWarning: [13:05:49] WARNING: C:\\buildkite-agent\\builds\\buildkite-windows-cpu-autoscaling-group-i-0015a694724fa8361-1\\xgboost\\xgboost-ci-windows\\src\\common\\error_msg.cc:27: The tree method `gpu_hist` is deprecated since 2.0.0. To use GPU training, set the `device` parameter to CUDA instead.\n",
      "\n",
      "    E.g. tree_method = \"hist\", device = \"cuda\"\n",
      "\n",
      "  warnings.warn(smsg, UserWarning)\n"
     ]
    },
    {
     "name": "stdout",
     "output_type": "stream",
     "text": [
      "Oversampled Dataset:\n",
      "              precision    recall  f1-score   support\n",
      "\n",
      "           0       1.00      1.00      1.00     85307\n",
      "           1       0.73      0.87      0.79       136\n",
      "\n",
      "    accuracy                           1.00     85443\n",
      "   macro avg       0.86      0.93      0.90     85443\n",
      "weighted avg       1.00      1.00      1.00     85443\n",
      "\n",
      "Confusion Matrix (Oversampled Dataset):\n",
      "[[85263    44]\n",
      " [   18   118]]\n"
     ]
    }
   ],
   "source": [
    "# Fit and evaluate oversampled dataset\n",
    "pipeline_oversample.fit(X_train, y_train)\n",
    "y_pred_oversample = pipeline_oversample.predict(X_test)\n",
    "print(\"Oversampled Dataset:\")\n",
    "print(classification_report(y_test, y_pred_oversample))\n",
    "print(\"Confusion Matrix (Oversampled Dataset):\")\n",
    "print(confusion_matrix(y_test, y_pred_oversample))"
   ]
  },
  {
   "cell_type": "code",
   "execution_count": 45,
   "metadata": {},
   "outputs": [
    {
     "name": "stderr",
     "output_type": "stream",
     "text": [
      "e:\\Py_Files\\ai_use_case\\aucenv\\Lib\\site-packages\\xgboost\\core.py:158: UserWarning: [13:06:39] WARNING: C:\\buildkite-agent\\builds\\buildkite-windows-cpu-autoscaling-group-i-0015a694724fa8361-1\\xgboost\\xgboost-ci-windows\\src\\common\\error_msg.cc:27: The tree method `gpu_hist` is deprecated since 2.0.0. To use GPU training, set the `device` parameter to CUDA instead.\n",
      "\n",
      "    E.g. tree_method = \"hist\", device = \"cuda\"\n",
      "\n",
      "  warnings.warn(smsg, UserWarning)\n",
      "e:\\Py_Files\\ai_use_case\\aucenv\\Lib\\site-packages\\xgboost\\core.py:158: UserWarning: [13:06:40] WARNING: C:\\buildkite-agent\\builds\\buildkite-windows-cpu-autoscaling-group-i-0015a694724fa8361-1\\xgboost\\xgboost-ci-windows\\src\\learner.cc:740: \n",
      "Parameters: { \"use_label_encoder\" } are not used.\n",
      "\n",
      "  warnings.warn(smsg, UserWarning)\n"
     ]
    },
    {
     "name": "stdout",
     "output_type": "stream",
     "text": [
      "Undersampled Dataset:\n",
      "              precision    recall  f1-score   support\n",
      "\n",
      "           0       1.00      0.96      0.98     85307\n",
      "           1       0.04      0.93      0.08       136\n",
      "\n",
      "    accuracy                           0.96     85443\n",
      "   macro avg       0.52      0.95      0.53     85443\n",
      "weighted avg       1.00      0.96      0.98     85443\n",
      "\n",
      "Confusion Matrix (Undersampled Dataset):\n",
      "[[82315  2992]\n",
      " [    9   127]]\n"
     ]
    },
    {
     "name": "stderr",
     "output_type": "stream",
     "text": [
      "e:\\Py_Files\\ai_use_case\\aucenv\\Lib\\site-packages\\xgboost\\core.py:158: UserWarning: [13:06:40] WARNING: C:\\buildkite-agent\\builds\\buildkite-windows-cpu-autoscaling-group-i-0015a694724fa8361-1\\xgboost\\xgboost-ci-windows\\src\\common\\error_msg.cc:27: The tree method `gpu_hist` is deprecated since 2.0.0. To use GPU training, set the `device` parameter to CUDA instead.\n",
      "\n",
      "    E.g. tree_method = \"hist\", device = \"cuda\"\n",
      "\n",
      "  warnings.warn(smsg, UserWarning)\n"
     ]
    }
   ],
   "source": [
    "# Fit and evaluate undersampled dataset\n",
    "pipeline_undersample.fit(X_train, y_train)\n",
    "y_pred_undersample = pipeline_undersample.predict(X_test)\n",
    "print(\"Undersampled Dataset:\")\n",
    "print(classification_report(y_test, y_pred_undersample))\n",
    "print(\"Confusion Matrix (Undersampled Dataset):\")\n",
    "print(confusion_matrix(y_test, y_pred_undersample))"
   ]
  },
  {
   "cell_type": "markdown",
   "metadata": {},
   "source": [
    "### Analysis of Model Performance on Different Datasets\n",
    "\n",
    "#### Oversampling\n",
    "- **Improves Recall:** Oversampling helps improve recall for the minority class (`1`), allowing the model to identify more instances of this class.\n",
    "- **Balance Between Precision and Recall:** Achieves a better balance between precision and recall compared to the original dataset.\n",
    "- **Potential Drawback:** May introduce noise and lower precision, which means that while the model becomes better at detecting minority class instances, the number of false positives may increase.\n",
    "\n",
    "#### Undersampling\n",
    "- **High Recall for Minority Class:** Results in a model with very high recall for the minority class (`1`), indicating that the model identifies most of the actual minority class instances.\n",
    "- **Low Precision:** Suffers from extremely low precision, which reduces the model's reliability. In practical scenarios, low precision means that when the model predicts the minority class, it is often incorrect, making it less useful for applications where accurate classification of the minority class is crucial.\n",
    "\n",
    "#### Original Dataset\n",
    "- **High Precision and Good Recall:** Achieves high precision and good recall for the minority class (`1`), meaning that the model performs well in correctly identifying instances of the minority class while maintaining a good balance with the majority class.\n",
    "- **Class Imbalance Issue:** Does not address the underlying class imbalance issue. This might still be problematic in applications where detecting the minority class is critical, as the model might still be biased towards the majority class.\n"
   ]
  }
 ],
 "metadata": {
  "kernelspec": {
   "display_name": "aucenv",
   "language": "python",
   "name": "python3"
  },
  "language_info": {
   "codemirror_mode": {
    "name": "ipython",
    "version": 3
   },
   "file_extension": ".py",
   "mimetype": "text/x-python",
   "name": "python",
   "nbconvert_exporter": "python",
   "pygments_lexer": "ipython3",
   "version": "3.12.0"
  }
 },
 "nbformat": 4,
 "nbformat_minor": 2
}
