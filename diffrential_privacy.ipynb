{
 "cells": [
  {
   "cell_type": "code",
   "execution_count": 67,
   "metadata": {},
   "outputs": [],
   "source": [
    "import numpy as np\n",
    "from sklearn.datasets import load_iris\n",
    "from sklearn.model_selection import train_test_split\n",
    "from sklearn.preprocessing import StandardScaler\n",
    "from sklearn.metrics import accuracy_score\n",
    "from sklearn.linear_model import LogisticRegression\n",
    "from diffprivlib.models import LogisticRegression as DPLogisticRegression"
   ]
  },
  {
   "cell_type": "code",
   "execution_count": 68,
   "metadata": {},
   "outputs": [],
   "source": [
    "# Load Iris dataset\n",
    "iris = load_iris()\n",
    "X = iris.data\n",
    "y = iris.target"
   ]
  },
  {
   "cell_type": "code",
   "execution_count": 69,
   "metadata": {},
   "outputs": [],
   "source": [
    "# Convert labels to binary (for simplicity)\n",
    "y = (y == 0).astype(int)"
   ]
  },
  {
   "cell_type": "code",
   "execution_count": 70,
   "metadata": {},
   "outputs": [],
   "source": [
    "# Train-test split\n",
    "X_train, X_test, y_train, y_test = train_test_split(X, y, test_size=0.3, random_state=42)\n",
    "\n",
    "# Standardize features\n",
    "scaler = StandardScaler()\n",
    "X_train = scaler.fit_transform(X_train)\n",
    "X_test = scaler.transform(X_test)"
   ]
  },
  {
   "cell_type": "code",
   "execution_count": 71,
   "metadata": {},
   "outputs": [
    {
     "name": "stdout",
     "output_type": "stream",
     "text": [
      "Accuracy of the non-private logistic regression model: 1.00\n"
     ]
    }
   ],
   "source": [
    "# Train and evaluate the non-private logistic regression model\n",
    "non_private_model = LogisticRegression(max_iter=1000, random_state=42)\n",
    "non_private_model.fit(X_train, y_train)\n",
    "\n",
    "y_pred = non_private_model.predict(X_test)\n",
    "accuracy_non_private = accuracy_score(y_test, y_pred)\n",
    "print(f'Accuracy of the non-private logistic regression model: {accuracy_non_private:.2f}')"
   ]
  },
  {
   "cell_type": "code",
   "execution_count": 91,
   "metadata": {},
   "outputs": [
    {
     "name": "stdout",
     "output_type": "stream",
     "text": [
      "Accuracy of the differentially private logistic regression model with epsilon 10: 0.42\n"
     ]
    }
   ],
   "source": [
    "# Train the differentially private logistic regression model using diffprivlib\n",
    "dp_model = DPLogisticRegression(epsilon=10.0, data_norm=2.0, max_iter=1000, random_state=42)\n",
    "dp_model.fit(X_train, y_train)\n",
    "\n",
    "y_pred_private = dp_model.predict(X_test)\n",
    "accuracy_private = accuracy_score(y_test, y_pred_private)\n",
    "print(f'Accuracy of the differentially private logistic regression model with epsilon 10: {accuracy_private:.2f}')"
   ]
  },
  {
   "cell_type": "code",
   "execution_count": 92,
   "metadata": {},
   "outputs": [
    {
     "name": "stdout",
     "output_type": "stream",
     "text": [
      "Accuracy of the differentially private logistic regression model with epsilon 60: 0.84\n"
     ]
    }
   ],
   "source": [
    "# Train the differentially private logistic regression model using diffprivlib\n",
    "dp_model = DPLogisticRegression(epsilon=60.0, data_norm=2.0, max_iter=1000, random_state=42)\n",
    "dp_model.fit(X_train, y_train)\n",
    "\n",
    "y_pred_private = dp_model.predict(X_test)\n",
    "accuracy_private = accuracy_score(y_test, y_pred_private)\n",
    "print(f'Accuracy of the differentially private logistic regression model with epsilon 60: {accuracy_private:.2f}')"
   ]
  },
  {
   "cell_type": "markdown",
   "metadata": {},
   "source": [
    "#### Summary\n",
    "- The non-private model performs exceptionally well with perfect accuracy, but without any privacy guarantees\n",
    "- Introducing differential privacy with ϵ=10 significantly degrades model performance due to the strong privacy constraints.\n",
    "- Increasing ϵ to 60 improves the model's accuracy considerably, demonstrating a more balanced trade-off between privacy and utility."
   ]
  }
 ],
 "metadata": {
  "kernelspec": {
   "display_name": "aucenv",
   "language": "python",
   "name": "python3"
  },
  "language_info": {
   "codemirror_mode": {
    "name": "ipython",
    "version": 3
   },
   "file_extension": ".py",
   "mimetype": "text/x-python",
   "name": "python",
   "nbconvert_exporter": "python",
   "pygments_lexer": "ipython3",
   "version": "3.12.0"
  }
 },
 "nbformat": 4,
 "nbformat_minor": 2
}
